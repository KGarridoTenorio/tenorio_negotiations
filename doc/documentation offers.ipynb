{
 "cells": [
  {
   "cell_type": "markdown",
   "id": "4d71234a",
   "metadata": {},
   "source": [
    "# Receives partial offer containing only price\n",
    "\n",
    "`validate_partial_offer()` calls `is_price_feasible()`:\n",
    "\n",
    "Buyer case\n",
    "\n",
    "- Given a **price \\(X\\)**, assume the **maximum quality \\(Q = 100\\)** (or maximum demand).\n",
    "\n",
    "- Compute the buyer’s **maximum profit at price \\(X\\)** with \\(Q = 100\\).\n",
    "\n",
    "- If this maximum profit is **greater than or equal to the Nash profit**:\n",
    "  - Call `optimal_quality_for_wholesale_price()`\n",
    "\n",
    "- Otherwise, if the maximum profit **is less than the Nash profit** <span style=\"color:#e53935\">(the term is too unfavourable)</span>:\n",
    "  - Send the **Nash equilibrium offer** directly.\n",
    "\n",
    "Supplier Case\n",
    "\n",
    "- Given a **price \\(X\\)**, compute the **optimal quality** for the supplier using the formula:\n",
    "  \n",
    "  $$\n",
    "  Q = d_{max} - \\frac{production\\_cost \\times (d_{max} - d_{min})}{X}\n",
    "  $$\n",
    "\n",
    "- Compute the **supplier’s maximum profit at price \\(X\\)** using this quality \\(Q\\).\n",
    "\n",
    "- If this maximum profit is **greater than or equal to the Nash profit**:\n",
    "  - Call `optimal_quality_for_wholesale_price()`\n",
    "\n",
    "- Otherwise, if the maximum profit **is less than the Nash profit** <span style=\"color:#e53935\">(the term is too unfavourable)</span>:\n",
    "  - Send the **Nash equilibrium offer** directly."
   ]
  },
  {
   "cell_type": "markdown",
   "id": "8853f6c3",
   "metadata": {},
   "source": [
    "# Receives partial offer containing only quality\n",
    "\n",
    "`validate_partial_offer()` calls `is_quality_feasible()`:\n",
    "\n",
    "Buyer case\n",
    "\n",
    "- Given a **quality \\(X\\)**\n",
    "\n",
    "- Compute the buyer’s **minimum acceptable price** with \\(Q = X\\) **to reach nash_profit**.\n",
    "\n",
    "- If the minimum acceptable price is **less than 0** or **greater than the MSP** <span style=\"color:#e53935\">(the term is too unfavourable)</span>:\n",
    "  - Send the **Nash equilibrium offer** directly.\n",
    "\n",
    "- Otherwise, if it is between acceptable margins:\n",
    "  - Call `optimal_wholesale_price_for_quality()`\n",
    "\n",
    "Supplier Case\n",
    "\n",
    "- Given a **quality \\(X\\)**\n",
    "\n",
    "- Compute the supplier's **maximum acceptable price** with \\(Q = X\\) **to reach nash_profit**.\n",
    "\n",
    "- If the maximum acceptable price is **less than the PC** <span style=\"color:#e53935\">(the term is too unfavourable)</span>:\n",
    "  - Send the **Nash equilibrium offer** directly.\n",
    "\n",
    "- Otherwise, if it is between acceptable margins:\n",
    "  - Call `optimal_wholesale_price_for_quality()`"
   ]
  },
  {
   "cell_type": "markdown",
   "id": "28a3686e",
   "metadata": {},
   "source": [
    "# Partial offer contains easy quality\n",
    "\n",
    "Adjust the price with `optimal_wholesale_price_for_quality()`\n",
    "using inverse formula of profit with fixed quality (given)"
   ]
  },
  {
   "cell_type": "markdown",
   "id": "350003c9",
   "metadata": {},
   "source": [
    "# Partial offer contains easy wholesale price\n",
    "\n",
    "Adjust the quality with `optimal_quality_for_wholesale_price()` using inverse formula of profit with fixed price (given).  \n",
    "This involves solving a quadratic equation derived\n",
    "from the profits' equations:\n",
    "\n",
    "$$\n",
    "\\text{target\\_profit\\_buyer} = (market\\_price - wholesale\\_price) \\times ES(q)\n",
    "$$ \n",
    "\n",
    "$$\n",
    "\\text{target\\_profit\\_supplier} = (wholesale\\_price \\times ES(q)) - production\\_cost \\times q\n",
    "$$\n",
    "\n",
    "where \n",
    "\n",
    "$$\n",
    "ES(q) = \\frac{(quality^2 - demand\\_min^2)}{2} + quality \\times \\frac{(demand\\_max - quality)}{(demand\\_max - demand\\_min)}\n",
    "$$\n",
    "\n",
    "The roots represent points where the profit exactly matches the target.\n",
    "\n",
    "Next, the vertex (peak) of the profit function is identified—the quality value that maximizes the continuous profit function.  \n",
    "For the buyer, this is typically at the maximum demand; for the supplier, it’s at a point adjusted by production cost and price.\n",
    "\n",
    "To select practical integer quality values, the code samples integers around the roots, the vertex, and the demand boundaries,  \n",
    "ensuring all promising candidates are considered.\n",
    "\n",
    "Finally, **among candidates that satisfy the bot’s profit being at least the Nash target, the function selects the quality that**  \n",
    "**maximizes the user’s profit**, aiming for negotiation efficiency. In case of ties, it chooses the quality maximizing the combined\n",
    "total profit.  \n",
    "If none satisfy the target, it returns no feasible solution.\n",
    "\n"
   ]
  }
 ],
 "metadata": {
  "kernelspec": {
   "display_name": "klaus",
   "language": "python",
   "name": "python3"
  },
  "language_info": {
   "codemirror_mode": {
    "name": "ipython",
    "version": 3
   },
   "file_extension": ".py",
   "mimetype": "text/x-python",
   "name": "python",
   "nbconvert_exporter": "python",
   "pygments_lexer": "ipython3",
   "version": "3.13.7"
  }
 },
 "nbformat": 4,
 "nbformat_minor": 5
}
