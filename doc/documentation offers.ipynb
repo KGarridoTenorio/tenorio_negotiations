{
 "cells": [
  {
   "cell_type": "markdown",
   "id": "4d71234a",
   "metadata": {},
   "source": [
    "# Receives partial offer containing only price\n",
    "\n",
    "`validate_partial_offer()` calls `is_price_feasible()`:\n",
    "\n",
    "Buyer case\n",
    "\n",
    "- Given a **price \\(X\\)**, assume the **maximum quantity \\(Q = 100\\)** (or maximum demand).\n",
    "\n",
    "- Compute the buyer’s **maximum profit at price \\(X\\)** with \\(Q = 100\\).\n",
    "\n",
    "- If this maximum profit is **greater than or equal to the Nash profit**:\n",
    "  - Call `optimal_quality_for_wholesale_price()`\n",
    "\n",
    "- Otherwise, if the maximum profit **is less than the Nash profit** <span style=\"color:#e53935\">(the term is too unfavourable)</span>:\n",
    "  - Send the **Nash equilibrium offer** directly.\n",
    "\n",
    "Supplier Case\n",
    "\n",
    "- Given a **price \\(X\\)**, compute the **optimal quantity** for the supplier using the formula:\n",
    "  \n",
    "  $$\n",
    "  Q = d_{max} - \\frac{production\\_cost \\times (d_{max} - d_{min})}{X}\n",
    "  $$\n",
    "\n",
    "- Compute the **supplier’s maximum profit at price \\(X\\)** using this quantity \\(Q\\).\n",
    "\n",
    "- If this maximum profit is **greater than or equal to the Nash profit**:\n",
    "  - Call `optimal_quality_for_wholesale_price()`\n",
    "\n",
    "- Otherwise, if the maximum profit **is less than the Nash profit** <span style=\"color:#e53935\">(the term is too unfavourable)</span>:\n",
    "  - Send the **Nash equilibrium offer** directly."
   ]
  },
  {
   "cell_type": "markdown",
   "id": "8853f6c3",
   "metadata": {},
   "source": [
    "# Receives partial offer containing only quantity\n",
    "\n",
    "`validate_partial_offer()` calls `is_quality_feasible()`:\n",
    "\n",
    "Buyer case\n",
    "\n",
    "- Given a **quantity \\(X\\)**\n",
    "\n",
    "- Compute the buyer’s **minimum acceptable price** with \\(Q = X\\) **to reach nash_profit**.\n",
    "\n",
    "- If the minimum acceptable price is **less than 0** or **greater than the Retail Price** <span style=\"color:#e53935\">(the term is too unfavourable)</span>:\n",
    "  - Send the **Nash equilibrium offer** directly.\n",
    "\n",
    "- Otherwise, if it is between acceptable margins:\n",
    "  - Call `optimal_wholesale_price_for_quality()`\n",
    "\n",
    "Supplier Case\n",
    "\n",
    "- Given a **quantity \\(X\\)**\n",
    "\n",
    "- Compute the supplier's **maximum acceptable price** with \\(Q = X\\) **to reach nash_profit**.\n",
    "\n",
    "- If the maximum acceptable price is **less than the PC** <span style=\"color:#e53935\">(the term is too unfavourable)</span>:\n",
    "  - Send the **Nash equilibrium offer** directly.\n",
    "\n",
    "- Otherwise, if it is between acceptable margins:\n",
    "  - Call `optimal_wholesale_price_for_quality()`"
   ]
  },
  {
   "cell_type": "markdown",
   "id": "28a3686e",
   "metadata": {},
   "source": [
    "# Partial offer contains easy Quantity\n",
    "\n",
    "Adjust the price with `optimal_wholesale_price_for_quality()`\n",
    "using inverse formula of profit with fixed quantity (given)"
   ]
  },
  {
   "cell_type": "markdown",
   "id": "350003c9",
   "metadata": {},
   "source": [
    "# Partial offer contains easy wholesale price\n",
    "\n",
    "Adjust the quantity with `optimal_quality_for_wholesale_price()` using inverse formula of profit with fixed price (given).  \n",
    "This involves solving a quadratic equation derived\n",
    "from the profits' equations:\n",
    "\n",
    "$$\n",
    "\\text{target\\_profit\\_buyer} = (market\\_price - wholesale\\_price) \\times ES(q)\n",
    "$$ \n",
    "\n",
    "$$\n",
    "\\text{target\\_profit\\_supplier} = (wholesale\\_price \\times ES(q)) - production\\_cost \\times q\n",
    "$$\n",
    "\n",
    "where \n",
    "\n",
    "$$\n",
    "ES(q) = \\frac{(quality^2 - demand\\_min^2)}{2} + quality \\times \\frac{(demand\\_max - quality)}{(demand\\_max - demand\\_min)}\n",
    "$$\n",
    "\n",
    "The roots represent points where the profit exactly matches the target.\n",
    "\n",
    "Next, the vertex (peak) of the profit function is identified—the quality value that maximizes the continuous profit function.  \n",
    "For the buyer, this is typically at the maximum demand; for the supplier, it’s at a point adjusted by production cost and price.\n",
    "\n",
    "To select practical integer quality values, the code samples integers around the roots, the vertex, and the demand boundaries,  \n",
    "ensuring all promising candidates are considered.\n",
    "\n",
    "Finally, **among candidates that satisfy the bot’s profit being at least the Nash target, the function selects the quantity that**  \n",
    "**maximizes the user’s profit**, aiming for negotiation efficiency. In case of ties, it chooses the quality maximizing the combined\n",
    "total profit.  \n",
    "If none satisfy the target, it returns no feasible solution.\n",
    "\n"
   ]
  },
  {
   "cell_type": "markdown",
   "id": "404910c7",
   "metadata": {},
   "source": [
    "# Testing it"
   ]
  },
  {
   "cell_type": "code",
   "execution_count": 3,
   "id": "737e29cc",
   "metadata": {},
   "outputs": [],
   "source": [
    "def expected_demand(quality: int, demand_min: int, demand_max: int) -> float:\n",
    "    if quality <= demand_min:\n",
    "        return quality\n",
    "    if quality >= demand_max:\n",
    "        return (demand_min + demand_max) / 2\n",
    "    return ((quality ** 2 - demand_min * demand_min) / 2 + quality * (demand_max - quality)) / (demand_max - demand_min)\n",
    "\n",
    "\n",
    "def profit_supplier(price: int, quality: int, production_cost: int, demand_min: int, demand_max: int) -> float:\n",
    "    expected_sales = expected_demand(quality, demand_min, demand_max)\n",
    "    return (price * expected_sales) - (production_cost * quality)\n",
    "\n",
    "\n",
    "def profit_buyer(price: int, quality: int, market_price: int, demand_min: int, demand_max: int) -> float:\n",
    "    expected_sales = expected_demand(quality, demand_min, demand_max)\n",
    "    return (market_price - price) * expected_sales\n"
   ]
  },
  {
   "cell_type": "code",
   "execution_count": 26,
   "id": "e2e071e2",
   "metadata": {},
   "outputs": [
    {
     "data": {
      "text/plain": [
       "57.142857142857146"
      ]
     },
     "execution_count": 26,
     "metadata": {},
     "output_type": "execute_result"
    }
   ],
   "source": [
    "w=7 #try 7.30 or 8\n",
    "p=10\n",
    "c=3\n",
    "q=100-(3*100/(w))\n",
    "q # INFLEXION Q "
   ]
  },
  {
   "cell_type": "code",
   "execution_count": 23,
   "id": "c253f552",
   "metadata": {},
   "outputs": [
    {
     "data": {
      "text/plain": [
       "122.39500000000002"
      ]
     },
     "execution_count": 23,
     "metadata": {},
     "output_type": "execute_result"
    }
   ],
   "source": [
    "profit_buyer(7.31,70,p,0,100)\n"
   ]
  },
  {
   "cell_type": "code",
   "execution_count": 24,
   "id": "fe44a80a",
   "metadata": {},
   "outputs": [
    {
     "data": {
      "text/plain": [
       "122.60499999999996"
      ]
     },
     "execution_count": 24,
     "metadata": {},
     "output_type": "execute_result"
    }
   ],
   "source": [
    "optimal_w= 7.31\n",
    "optimal_q= 70\n",
    "profit_supplier(optimal_w,optimal_q,c,0,100)"
   ]
  },
  {
   "cell_type": "code",
   "execution_count": 25,
   "id": "9593ed43",
   "metadata": {},
   "outputs": [
    {
     "name": "stdout",
     "output_type": "stream",
     "text": [
      "Inflection point of q: 62.5\n",
      "Expected profits: 156.25\n",
      "Nash eq profits: 122.60499999999996\n"
     ]
    },
    {
     "data": {
      "image/png": "[encoded data removed]",
      "text/plain": [
       "<Figure size 1000x600 with 1 Axes>"
      ]
     },
     "metadata": {},
     "output_type": "display_data"
    }
   ],
   "source": [
    "import matplotlib.pyplot as plt\n",
    "\n",
    "inflection_q = 100 - (c * 100 / w)\n",
    "print(f\"Inflection point of q: {inflection_q}\")\n",
    "q_values = range(1, 101)\n",
    "profit_values = [profit_supplier(w, q, c, 0, 100) for q in q_values]\n",
    "print(f\"Expected profits: {profit_supplier(w, inflection_q, c, 0, 100)}\")\n",
    "print(f\"Nash eq profits: {profit_supplier(optimal_w,optimal_q,c,0,100)}\")\n",
    "# Plot the profit_supplier against q\n",
    "plt.figure(figsize=(10, 6))\n",
    "plt.plot(q_values, profit_values, label=\"Supplier Profit\", color=\"blue\")\n",
    "\n",
    "# Highlight the inflection point\n",
    "plt.scatter([inflection_q], [profit_supplier(w, inflection_q, c, 0, 100)], color=\"red\", label=\"Inflection Point\")\n",
    "plt.axvline(x=inflection_q, color=\"red\", linestyle=\"--\", label=\"Inflection Line\")\n",
    "\n",
    "plt.xlabel(\"Quality (q)\")\n",
    "plt.ylabel(\"Expeced Profit (Supplier)\")\n",
    "plt.title(\"Supplier Profit vs Quality\")\n",
    "plt.legend()\n",
    "plt.grid()\n",
    "plt.show()"
   ]
  },
  {
   "cell_type": "code",
   "execution_count": null,
   "id": "24a4166e",
   "metadata": {},
   "outputs": [],
   "source": []
  }
 ],
 "metadata": {
  "kernelspec": {
   "display_name": "Python 3",
   "language": "python",
   "name": "python3"
  },
  "language_info": {
   "codemirror_mode": {
    "name": "ipython",
    "version": 3
   },
   "file_extension": ".py",
   "mimetype": "text/x-python",
   "name": "python",
   "nbconvert_exporter": "python",
   "pygments_lexer": "ipython3",
   "version": "3.12.0"
  }
 },
 "nbformat": 4,
 "nbformat_minor": 5
}
